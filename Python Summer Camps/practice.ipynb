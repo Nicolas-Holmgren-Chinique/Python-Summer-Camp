{
 "cells": [
  {
   "attachments": {},
   "cell_type": "markdown",
   "metadata": {},
   "source": [
    "This is an example of some python code, so you can get an idea"
   ]
  },
  {
   "cell_type": "code",
   "execution_count": 2,
   "metadata": {},
   "outputs": [
    {
     "name": "stdout",
     "output_type": "stream",
     "text": [
      "to run this and your code you can hold ctrl and enter or the triangle to the left |>\n",
      "\n",
      "This is a string\n",
      "1 2\n",
      "To add more code boxes like this one hold shift + enter\n"
     ]
    }
   ],
   "source": [
    "print('to run this and your code you can hold ctrl and enter or the triangle to the left |>')\n",
    "\n",
    "print(\"\") # this puts a blank line between the 2 outputs \n",
    "print(\"This is a string\")\n",
    "print(1, 2 )\n",
    "\n",
    "print(\"To add more code boxes like this one hold shift + enter\")\n",
    "\n"
   ]
  },
  {
   "attachments": {},
   "cell_type": "markdown",
   "metadata": {},
   "source": [
    "Here you can practice and test your python code "
   ]
  },
  {
   "cell_type": "code",
   "execution_count": 7,
   "metadata": {},
   "outputs": [
    {
     "name": "stdout",
     "output_type": "stream",
     "text": [
      "27\n",
      "o\n"
     ]
    }
   ],
   "source": [
    "word = \"hello how is your day going\"\n",
    "print(len(word))\n",
    "print(word[4])"
   ]
  }
 ],
 "metadata": {
  "kernelspec": {
   "display_name": "Python 3",
   "language": "python",
   "name": "python3"
  },
  "language_info": {
   "codemirror_mode": {
    "name": "ipython",
    "version": 3
   },
   "file_extension": ".py",
   "mimetype": "text/x-python",
   "name": "python",
   "nbconvert_exporter": "python",
   "pygments_lexer": "ipython3",
   "version": "3.11.3"
  },
  "orig_nbformat": 4
 },
 "nbformat": 4,
 "nbformat_minor": 2
}
